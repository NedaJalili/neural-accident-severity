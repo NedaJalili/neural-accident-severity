{
  "nbformat": 4,
  "nbformat_minor": 0,
  "metadata": {
    "colab": {
      "provenance": []
    },
    "kernelspec": {
      "name": "python3",
      "display_name": "Python 3"
    },
    "language_info": {
      "name": "python"
    }
  },
  "cells": [
    {
      "cell_type": "code",
      "execution_count": 16,
      "metadata": {
        "colab": {
          "base_uri": "https://localhost:8080/"
        },
        "id": "imB8vv4WU4at",
        "outputId": "03a6aa9f-04c0-4c97-a465-926071a82b7e"
      },
      "outputs": [
        {
          "output_type": "stream",
          "name": "stdout",
          "text": [
            "Drive already mounted at /content/drive; to attempt to forcibly remount, call drive.mount(\"/content/drive\", force_remount=True).\n"
          ]
        }
      ],
      "source": [
        "from google.colab import drive\n",
        "drive.mount('/content/drive')\n"
      ]
    },
    {
      "cell_type": "code",
      "source": [
        "import xgboost as xgb\n",
        "\n",
        "loaded_model = xgb.XGBClassifier()\n",
        "loaded_model.load_model('/content/drive/MyDrive/neural-accident-severity/models/best_xgb_model1.json')\n",
        "print(\"مدل با موفقیت بارگذاری شد.\")\n"
      ],
      "metadata": {
        "colab": {
          "base_uri": "https://localhost:8080/"
        },
        "id": "lgE0KyWMWFSp",
        "outputId": "c45574df-326c-4e5d-90ed-30691fd01e3c"
      },
      "execution_count": 3,
      "outputs": [
        {
          "output_type": "stream",
          "name": "stdout",
          "text": [
            "مدل با موفقیت بارگذاری شد.\n"
          ]
        }
      ]
    },
    {
      "cell_type": "markdown",
      "source": [
        "#ساخت  و ذخیره pipeline"
      ],
      "metadata": {
        "id": "PzYIwJYTnIGS"
      }
    },
    {
      "cell_type": "code",
      "source": [
        "print(\"ستون‌های ورودی sample_df:\", sample_df.columns.tolist())\n",
        "print(\"ستون‌های pipeline:\", list(preprocessor.feature_names_in_))\n",
        "print(\"تعداد ستون‌های ورودی:\", sample_df.shape[1])\n",
        "print(\"تعداد ستون‌های مدل انتظار دارد:\", loaded_model.n_features_in_ if hasattr(loaded_model, 'n_features_in_') else 'نامشخص')\n"
      ],
      "metadata": {
        "colab": {
          "base_uri": "https://localhost:8080/"
        },
        "id": "6EPn8ABB69Rm",
        "outputId": "56cea108-3408-44e3-eeed-ec7c585478f5"
      },
      "execution_count": 9,
      "outputs": [
        {
          "output_type": "stream",
          "name": "stdout",
          "text": [
            "ستون‌های ورودی sample_df: ['mavane_did_id', 'naqayes_moaser_rah_id', 'vaze_hava_id', 'sharayet_sathe_rah_id', 'vaze_roshanaei_id', 'noe_barkhord_id', 'noe_shane_id', 'khatkeshi_id']\n",
            "ستون‌های pipeline: ['mavane_did_id', 'naqayes_moaser_rah_id', 'vaze_hava_id', 'sharayet_sathe_rah_id', 'vaze_roshanaei_id', 'noe_barkhord_id', 'noe_shane_id', 'khatkeshi_id']\n",
            "تعداد ستون‌های ورودی: 8\n",
            "تعداد ستون‌های مدل انتظار دارد: 88\n"
          ]
        }
      ]
    },
    {
      "cell_type": "code",
      "source": [
        "import pandas as pd\n",
        "import numpy as np\n",
        "from sklearn.model_selection import train_test_split\n",
        "from sklearn.impute import SimpleImputer\n",
        "from sklearn.preprocessing import StandardScaler, OneHotEncoder\n",
        "from sklearn.compose import ColumnTransformer\n",
        "from sklearn.pipeline import Pipeline\n",
        "import joblib\n",
        "\n",
        "# --- تنظیمات ---\n",
        "DATA_PATH = \"/content/drive/MyDrive/neural-accident-severity/data/id_columns_step11.csv\"\n",
        "TARGET_COL = \"noe_tasadof_id\"\n",
        "PREPROCESSOR_PATH = \"/content/drive/MyDrive/neural-accident-severity/models/preprocessor.pkl\"\n",
        "\n",
        "# بارگذاری داده\n",
        "df = pd.read_csv(DATA_PATH)\n",
        "df = df.drop_duplicates()\n",
        "df = df.loc[:, ~df.columns.str.contains('^Unnamed')]\n",
        "\n",
        "# پاکسازی مقادیر نامعتبر\n",
        "for col in df.columns:\n",
        "    if df[col].dtype == 'object':\n",
        "        df[col] = df[col].replace(['nan', 'NaN', '', ' '], np.nan)\n",
        "    df[col] = df[col].replace([np.inf, -np.inf], np.nan)\n",
        "\n",
        "df = df[df[TARGET_COL].notna()]\n",
        "\n",
        "X = df.drop(TARGET_COL, axis=1)\n",
        "y = df[TARGET_COL]\n",
        "\n",
        "# تقسیم داده\n",
        "X_train, X_test, y_train, y_test = train_test_split(\n",
        "    X, y, test_size=0.2, random_state=42, stratify=y\n",
        ")\n",
        "\n",
        "# تعیین ستون‌ها\n",
        "nominal_cols = [\n",
        "    'khatkeshi_id', 'noe_barkhord_id', 'vaze_roshanaei_id',\n",
        "    'sharayet_sathe_rah_id', 'noe_shane_id', 'vaze_hava_id',\n",
        "    'mavane_did_id', 'naqayes_moaser_rah_id'\n",
        "]\n",
        "numeric_cols = [col for col in X.columns if col not in nominal_cols]\n",
        "\n",
        "# ساخت pipeline پیش‌پردازش\n",
        "nominal_transformer = Pipeline([\n",
        "    ('imputer', SimpleImputer(strategy='most_frequent')),\n",
        "    ('onehot', OneHotEncoder(handle_unknown='ignore', sparse_output=False))\n",
        "])\n",
        "\n",
        "numeric_transformer = Pipeline([\n",
        "    ('imputer', SimpleImputer(strategy='median')),\n",
        "    ('scaler', StandardScaler())\n",
        "])\n",
        "\n",
        "preprocessor = ColumnTransformer(transformers=[\n",
        "    ('nom', nominal_transformer, nominal_cols),\n",
        "    ('num', numeric_transformer, numeric_cols)\n",
        "])\n",
        "\n",
        "# آموزش pipeline روی داده آموزش\n",
        "preprocessor.fit(X_train)\n",
        "\n",
        "# ذخیره pipeline پیش‌پردازش\n",
        "joblib.dump(preprocessor, PREPROCESSOR_PATH)\n",
        "print(f\"Pipeline پیش‌پردازش در {PREPROCESSOR_PATH} ذخیره شد.\")\n",
        "\n",
        "# اکنون می‌توانید مدل را جداگانه آموزش دهید:\n",
        "# X_train_processed = preprocessor.transform(X_train)\n",
        "# سپس مدل XGBoost را روی X_train_processed و y_train آموزش دهید.\n"
      ],
      "metadata": {
        "colab": {
          "base_uri": "https://localhost:8080/"
        },
        "id": "RGAkp937E9sq",
        "outputId": "07757f79-4e14-4c46-b692-ee7c0a54da30"
      },
      "execution_count": 14,
      "outputs": [
        {
          "output_type": "stream",
          "name": "stdout",
          "text": [
            "Pipeline پیش‌پردازش در /content/drive/MyDrive/neural-accident-severity/models/preprocessor.pkl ذخیره شد.\n"
          ]
        }
      ]
    },
    {
      "cell_type": "code",
      "source": [
        "import joblib\n",
        "import xgboost as xgb\n",
        "import pandas as pd\n",
        "\n",
        "# بارگذاری pipeline و مدل\n",
        "preprocessor = joblib.load('/content/drive/MyDrive/neural-accident-severity/models/preprocessor.pkl')\n",
        "loaded_model = xgb.XGBClassifier()\n",
        "loaded_model.load_model('/content/drive/MyDrive/neural-accident-severity/models/best_xgb_model1.json')\n",
        "\n",
        "# دیکشنری‌های کامل تبدیل متن به عدد (همان‌طور که دارید تعریف کرده‌اید)\n",
        "noe_barkhord_map = {\n",
        "    'موتورسیکلت با وسیله نقلیه': 0,\n",
        "    'وسیله نقلیه با یک وسیله نقلیه': 1,\n",
        "    'وسیله نقلیه با عابر': 2,\n",
        "    'موتورسیکلت با عابر': 3,\n",
        "    'وسیله نقلیه با شیء ثابت': 4,\n",
        "    'موتورسیکلت - واژگونی': 5,\n",
        "    'وسیله نقلیه - واژگونی': 6,\n",
        "    'موتورسیکلت با شیء ثابت': 7,\n",
        "    'موتور با وسیله نقلیه پارک شده': 8,\n",
        "    'وسیله نقلیه - خروج از جاده': 9,\n",
        "    'سایر': 10,\n",
        "    'وسیله نقلیه با دوچرخه': 11,\n",
        "    'پرتاب سرنشین': 12,\n",
        "    'موتورسیکلت با دوچرخه': 13,\n",
        "    'نامشخص': 14,\n",
        "    'موتورسیکلت - خروج از جاده': 15,\n",
        "    'موتورسیکلت با موتورسیکلت': 16,\n",
        "    'یک وسیله نقلیه': 17,\n",
        "    'چند وسیله نقلیه': 18,\n",
        "    'وسیله نقلیه با موتور سیکلت': 19,\n",
        "    'دوچرخه با موتورسیکلت': 20,\n",
        "    'مینی بوس به سواری': 21,\n",
        "    'موتورسیکلت با چند وسیله دیگر': 22,\n",
        "    'وسیله نقلیه پارک شده': 23,\n",
        "    'وسیله نقلیه با چند وسیله نقلیه و عابر': 24,\n",
        "    'موتورسیکلت': 25,\n",
        "    'واژگونی و سقوط': 26,\n",
        "    'وسیله نقلیه با موتورسیکلت': 27,\n",
        "    'وسیله نقلیه با حیوان/احشام': 28,\n",
        "    'واژگونی و سقوط، خروج از جاده': 29,\n",
        "    'کامیون با وسیله نقلیه': 30,\n",
        "    'وسیله نقلیه با چند وسیله نقلیه - عابر': 31,\n",
        "    'وسیله نقلیه با دوچرخه و چند وسیله': 32,\n",
        "    'موتورسیکلت با حیوان/احشام': 33,\n",
        "    'چند برخوردی': 34\n",
        "}\n",
        "\n",
        "vaze_roshanaei_map = {\n",
        "    'روز': 0,\n",
        "    'شب با روشنایی کافی': 1,\n",
        "    'غروب': 2,\n",
        "    'شب بدون روشنایی کافی': 3,\n",
        "    'نامشخص': 4,\n",
        "    'طلوع': 5,\n",
        "    'سایر': 6,\n",
        "    'شب با روشنایی نامشخص': 7\n",
        "}\n",
        "\n",
        "sharayet_sathe_rah_map = {\n",
        "    'خشک و معمولی': 0,\n",
        "    'مرطوب و خیس': 1,\n",
        "    'یخبندان و برفی': 2,\n",
        "    'نامشخص': 3,\n",
        "    'سایر': 4,\n",
        "    'شنی و خاکی': 5,\n",
        "    'گل آلود': 6\n",
        "}\n",
        "\n",
        "noe_shane_map = {\n",
        "    'شانه ندارد': 0,\n",
        "    'شانه خاکی': 1,\n",
        "    'شانه آسفالته': 2,\n",
        "    'نامشخص': 3\n",
        "}\n",
        "\n",
        "vaze_hava_map = {\n",
        "    'صاف': 0,\n",
        "    'ابری': 1,\n",
        "    'بارانی': 2,\n",
        "    'برفی': 3,\n",
        "    'نامشخص': 4,\n",
        "    'بارانی و ابری': 5,\n",
        "    'مه آلود': 6,\n",
        "    'غبارآلود': 7,\n",
        "    'صاف - ابری': 8\n",
        "}\n",
        "\n",
        "khatkeshi_map = {\n",
        "    'ندارد': 0,\n",
        "    'منقطع': 1,\n",
        "    'ممتد': 2,\n",
        "    'دوبل': 3,\n",
        "    'نامشخص': 4,\n",
        "    'ممتد و دوبل': 5,\n",
        "    'ممتد و منقطع': 6\n",
        "}\n",
        "\n",
        "def get_valid_input(prompt, valid_map):\n",
        "    while True:\n",
        "        val = input(prompt)\n",
        "        if val in valid_map:\n",
        "            return valid_map[val]\n",
        "        else:\n",
        "            print(\"ورودی نامعتبر. لطفاً یکی از موارد زیر را وارد کنید:\")\n",
        "            for k in valid_map.keys():\n",
        "                print(f\" - {k}\")\n",
        "\n",
        "# گرفتن ورودی کاربر\n",
        "sample = {}\n",
        "sample['mavane_did_id'] = 0\n",
        "sample['naqayes_moaser_rah_id'] = 0\n",
        "sample['vaze_hava_id'] = get_valid_input('وضعیت هوا: ', vaze_hava_map)\n",
        "sample['sharayet_sathe_rah_id'] = get_valid_input('شرایط سطح راه: ', sharayet_sathe_rah_map)\n",
        "sample['vaze_roshanaei_id'] = get_valid_input('وضعیت روشنایی: ', vaze_roshanaei_map)\n",
        "sample['noe_barkhord_id'] = get_valid_input('نوع برخورد: ', noe_barkhord_map)\n",
        "sample['noe_shane_id'] = get_valid_input('نوع شانه: ', noe_shane_map)\n",
        "sample['khatkeshi_id'] = get_valid_input('خط‌کشی: ', khatkeshi_map)\n",
        "\n",
        "sample_df = pd.DataFrame([sample])\n",
        "\n",
        "# اعمال پیش‌پردازش\n",
        "sample_processed = preprocessor.transform(sample_df)\n",
        "\n",
        "print(\"تعداد ستون‌های خروجی pipeline:\", sample_processed.shape[1])\n",
        "print(\"تعداد ستون‌های مدل انتظار دارد:\", loaded_model.n_features_in_)\n",
        "\n",
        "# پیش‌بینی\n",
        "y_pred = loaded_model.predict(sample_processed)\n",
        "\n",
        "noe_tasadof_map = {0: 'جرحی', 1: 'خسارتی', 2: 'فوتی'}\n",
        "print('پیش‌بینی مدل:', noe_tasadof_map.get(y_pred[0], 'نامشخص'))\n"
      ],
      "metadata": {
        "colab": {
          "base_uri": "https://localhost:8080/"
        },
        "id": "87APiY8X7YNk",
        "outputId": "b2f3c2b2-8c77-4cc2-8f30-867453743245"
      },
      "execution_count": 15,
      "outputs": [
        {
          "output_type": "stream",
          "name": "stdout",
          "text": [
            "وضعیت هوا: صاف\n",
            "شرایط سطح راه: خشک و معمولی\n",
            "وضعیت روشنایی: روز\n",
            "نوع برخورد: موتورسیکلت\n",
            "نوع شانه: شانه آسفالته\n",
            "خط‌کشی: منقطع\n",
            "تعداد ستون‌های خروجی pipeline: 88\n",
            "تعداد ستون‌های مدل انتظار دارد: 88\n",
            "پیش‌بینی مدل: جرحی\n"
          ]
        }
      ]
    }
  ]
}